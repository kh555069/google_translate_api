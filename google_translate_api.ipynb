{
  "nbformat": 4,
  "nbformat_minor": 0,
  "metadata": {
    "colab": {
      "name": "google_translate_api.ipynb",
      "provenance": [],
      "collapsed_sections": []
    },
    "kernelspec": {
      "name": "python3",
      "display_name": "Python 3"
    }
  },
  "cells": [
    {
      "cell_type": "code",
      "metadata": {
        "id": "-0j1oi82YV2K",
        "colab_type": "code",
        "colab": {}
      },
      "source": [
        "%%bash\n",
        "### pre-work\n",
        "echo \"import asyncio\n",
        "from pyppeteer import launch\n",
        "async def main():\n",
        "    url = 'https://translate.google.com.tw/#view=home&op=translate&sl=auto&tl=en&text=%E4%BB%8A%E5%A4%8F%E5%BF%85%E5%82%99%E6%B6%BC%E6%84%9F%E5%9C%96%E9%A8%B0%E9%95%B7%E5%A4%96%E5%A5%97'\n",
        "    browser = await launch(executablePath='/usr/lib/chromium-browser/chromium-browser',args=['--no-sandbox'])\n",
        "    page = await browser.newPage()\n",
        "    await page.goto(url, {'waitUntil': 'networkidle2', 'timeout': 60*1000})\n",
        "    cookie = await page.cookies()\n",
        "    await browser.close()\n",
        "    return '; '.join(['='.join([_['name'],_['value']]) for _ in cookie])\n",
        "if __name__=='__main__':\n",
        "    loop = asyncio.get_event_loop()\n",
        "    tasks = main()\n",
        "    result = loop.run_until_complete(tasks)\n",
        "    print(result)\" > get_cookie.py\n",
        "\n",
        "apt-get update > /dev/null 2>&1\n",
        "pip install pyppeteer > /dev/null 2>&1\n",
        "apt install chromium-chromedriver > /dev/null 2>&1\n",
        "\n",
        "python get_cookie.py > cookie.txt"
      ],
      "execution_count": 1,
      "outputs": []
    },
    {
      "cell_type": "code",
      "metadata": {
        "id": "WjOsYiACX8dT",
        "colab_type": "code",
        "colab": {
          "base_uri": "https://localhost:8080/",
          "height": 34
        },
        "outputId": "39c9ead8-4df8-492b-b09b-618f20fe1bb6"
      },
      "source": [
        "import requests\n",
        "def google_api(string, cookie=None, from_language=\"auto\", to_language=\"zh-TW\"):\n",
        "    headers={\n",
        "        'user-agent': 'Mozilla/5.0 (Macintosh; Intel Mac OS X 10_12_6) AppleWebKit/537.36 (KHTML, like Gecko) Chrome/84.0.4147.89 Safari/537.36',\n",
        "    }\n",
        "    if cookie: headers['cookie'] = cookie\n",
        "    url='https://translate.google.com.tw/translate_a/single?client=webapp&sl={from_language}&tl={to_language}&dt=at&dt=bd&dt=ex&dt=ld&dt=md&dt=qca&dt=rw&dt=rm&dt=sos&dt=ss&dt=t&dt=gt&ssel=0&kc=1&tk=&q={q}'.format(to_language=to_language, from_language=from_language, q=string)\n",
        "    return requests.get(url, headers=headers).json()[0][0][0]\n",
        "\n",
        "with open('cookie.txt','r') as r: cookie = r.read().strip()\n",
        "string_list=['Hello world!']\n",
        "google=[]\n",
        "for string in string_list:\n",
        "    result = google_api(string, cookie)\n",
        "    google.append( result )\n",
        "google"
      ],
      "execution_count": 2,
      "outputs": [
        {
          "output_type": "execute_result",
          "data": {
            "text/plain": [
              "['你好，世界！']"
            ]
          },
          "metadata": {
            "tags": []
          },
          "execution_count": 2
        }
      ]
    }
  ]
}